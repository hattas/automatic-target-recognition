{
 "cells": [
  {
   "cell_type": "code",
   "execution_count": 1,
   "metadata": {},
   "outputs": [],
   "source": [
    "import pandas as pd\n",
    "import numpy as np"
   ]
  },
  {
   "cell_type": "markdown",
   "metadata": {},
   "source": [
    "### functions"
   ]
  },
  {
   "cell_type": "code",
   "execution_count": 2,
   "metadata": {},
   "outputs": [],
   "source": [
    "def cv(clf,X,y,clf_string,cv_=5):\n",
    "    '''5 fold cross validation'''\n",
    "    scores = cross_val_score(clf, X, y, cv=cv_)\n",
    "    print('Clf: {}\\nAccuracy: {:0.2f} +/- {:0.2f}'.format(clf_string, scores.mean(), scores.std() * 2))"
   ]
  },
  {
   "cell_type": "markdown",
   "metadata": {},
   "source": [
    "### import data"
   ]
  },
  {
   "cell_type": "code",
   "execution_count": 20,
   "metadata": {},
   "outputs": [],
   "source": [
    "#df = pd.read_csv('../new_output/features.csv',index_col=0)\n",
    "df_regional = pd.read_csv('../csvs/regional_features.csv',index_col=0)\n",
    "#df.dropna(inplace=True)\n",
    "#df_regional.dropna(inplace=True)\n",
    "#df_regional.drop(['file','label'],axis=1,inplace=True)"
   ]
  },
  {
   "cell_type": "code",
   "execution_count": 4,
   "metadata": {},
   "outputs": [],
   "source": [
    "#df = pd.concat([df, df_regional], axis=1)"
   ]
  },
  {
   "cell_type": "code",
   "execution_count": 25,
   "metadata": {},
   "outputs": [],
   "source": [
    "features_regional = df_regional.iloc[:,2:].values\n",
    "features_shape = np.load('features_shape.npy')\n",
    "features_stats = np.load('features_stats.npy')\n",
    "features_histogram = np.load('features_histogram.npy')"
   ]
  },
  {
   "cell_type": "code",
   "execution_count": 28,
   "metadata": {},
   "outputs": [
    {
     "data": {
      "text/plain": [
       "(1472, 93)"
      ]
     },
     "execution_count": 28,
     "metadata": {},
     "output_type": "execute_result"
    }
   ],
   "source": [
    "features = np.concatenate((features_regional,features_shape,\n",
    "                           features_stats,features_histogram),axis=1)\n",
    "features.shape"
   ]
  },
  {
   "cell_type": "code",
   "execution_count": 30,
   "metadata": {},
   "outputs": [
    {
     "name": "stdout",
     "output_type": "stream",
     "text": [
      "X (data) (1005, 93) <class 'numpy.ndarray'>\n",
      "y (target) (1005,) <class 'numpy.ndarray'> [0. 1. 2. 3.]\n",
      "y_bin (binary target) (1005,) <class 'numpy.ndarray'> [0 1]\n"
     ]
    }
   ],
   "source": [
    "#X = df.drop(['file','label'],axis=1).values\n",
    "X = features[:1005]\n",
    "y = df_regional.label.values[:1005]\n",
    "y_bin = (y!=0).astype(int)\n",
    "print('X (data)',X.shape,type(X))\n",
    "print('y (target)',y.shape,type(y),np.unique(y))\n",
    "print('y_bin (binary target)',y_bin.shape,type(y_bin),np.unique(y_bin))"
   ]
  },
  {
   "cell_type": "markdown",
   "metadata": {},
   "source": [
    "### preprocess data to have mean=0 and variance=1"
   ]
  },
  {
   "cell_type": "code",
   "execution_count": 31,
   "metadata": {},
   "outputs": [],
   "source": [
    "from sklearn import preprocessing\n",
    "X_scaled = preprocessing.scale(X)"
   ]
  },
  {
   "cell_type": "markdown",
   "metadata": {},
   "source": [
    "### preprocess data to be on range [0,1]"
   ]
  },
  {
   "cell_type": "code",
   "execution_count": 32,
   "metadata": {},
   "outputs": [],
   "source": [
    "min_max_scaler = preprocessing.MinMaxScaler()\n",
    "X_01 = min_max_scaler.fit_transform(X)"
   ]
  },
  {
   "cell_type": "markdown",
   "metadata": {},
   "source": [
    "### testing models"
   ]
  },
  {
   "cell_type": "code",
   "execution_count": 33,
   "metadata": {},
   "outputs": [],
   "source": [
    "import warnings\n",
    "warnings.filterwarnings('ignore')\n",
    "from sklearn import svm\n",
    "from sklearn.linear_model import LogisticRegression\n",
    "from sklearn.model_selection import cross_val_score\n",
    "from sklearn.ensemble import AdaBoostClassifier\n",
    "from sklearn.neighbors import KNeighborsClassifier\n",
    "from sklearn.neural_network import MLPClassifier"
   ]
  },
  {
   "cell_type": "code",
   "execution_count": 34,
   "metadata": {},
   "outputs": [],
   "source": [
    "clfs = []\n",
    "clfs.append([svm.SVC(),'default svm'])\n",
    "#clfs.append([svm.SVC(kernel='linear'),'svc kernel linear'])\n",
    "clfs.append([LogisticRegression(random_state=0, solver='lbfgs',multi_class='multinomial'),'logistic reg'])\n",
    "clfs.append([AdaBoostClassifier(n_estimators=100), 'adaboost'])\n",
    "clfs.append([KNeighborsClassifier(n_neighbors=3), 'knn 3'])\n",
    "clfs.append([MLPClassifier(solver='lbfgs', alpha=1e-5,\n",
    "                           hidden_layer_sizes=(5, 2), random_state=1),'NN'])"
   ]
  },
  {
   "cell_type": "code",
   "execution_count": 36,
   "metadata": {},
   "outputs": [
    {
     "name": "stdout",
     "output_type": "stream",
     "text": [
      "Clf: default svm\n",
      "Accuracy: 0.79 +/- 0.07\n",
      "Clf: logistic reg\n",
      "Accuracy: 0.78 +/- 0.08\n",
      "Clf: adaboost\n",
      "Accuracy: 0.84 +/- 0.08\n",
      "Clf: knn 3\n",
      "Accuracy: 0.82 +/- 0.08\n",
      "Clf: NN\n",
      "Accuracy: 0.82 +/- 0.07\n"
     ]
    }
   ],
   "source": [
    "for clf, clf_str in clfs:\n",
    "    cv(clf,X_scaled,y_bin,clf_str)"
   ]
  },
  {
   "cell_type": "markdown",
   "metadata": {},
   "source": [
    "### ensemble"
   ]
  },
  {
   "cell_type": "code",
   "execution_count": 37,
   "metadata": {},
   "outputs": [],
   "source": [
    "from sklearn.ensemble import VotingClassifier"
   ]
  },
  {
   "cell_type": "code",
   "execution_count": 38,
   "metadata": {},
   "outputs": [],
   "source": [
    "estimators = []\n",
    "for clf, clf_str in clfs:\n",
    "    estimators.append((clf_str, clf))"
   ]
  },
  {
   "cell_type": "code",
   "execution_count": 39,
   "metadata": {},
   "outputs": [
    {
     "name": "stdout",
     "output_type": "stream",
     "text": [
      "Clf: ensemble\n",
      "Accuracy: 0.84 +/- 0.09\n"
     ]
    }
   ],
   "source": [
    "eclf = VotingClassifier(estimators=estimators, voting='hard')\n",
    "cv(eclf,X_scaled,y_bin,'ensemble')"
   ]
  }
 ],
 "metadata": {
  "kernelspec": {
   "display_name": "Python 3",
   "language": "python",
   "name": "python3"
  },
  "language_info": {
   "codemirror_mode": {
    "name": "ipython",
    "version": 3
   },
   "file_extension": ".py",
   "mimetype": "text/x-python",
   "name": "python",
   "nbconvert_exporter": "python",
   "pygments_lexer": "ipython3",
   "version": "3.6.5"
  }
 },
 "nbformat": 4,
 "nbformat_minor": 2
}
