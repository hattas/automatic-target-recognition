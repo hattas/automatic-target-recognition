{
 "cells": [
  {
   "cell_type": "code",
   "execution_count": 1,
   "metadata": {},
   "outputs": [],
   "source": [
    "import pandas as pd\n",
    "import numpy as np"
   ]
  },
  {
   "cell_type": "markdown",
   "metadata": {},
   "source": [
    "### functions"
   ]
  },
  {
   "cell_type": "code",
   "execution_count": 2,
   "metadata": {},
   "outputs": [],
   "source": [
    "def cv(clf,X,y,clf_string,cv_=5):\n",
    "    '''5 fold cross validation'''\n",
    "    scores = cross_val_score(clf, X, y, cv=cv_)\n",
    "    print('Clf: {}\\nAccuracy: {:0.2f} +/- {:0.2f}'.format(clf_string, scores.mean(), scores.std() * 2))"
   ]
  },
  {
   "cell_type": "markdown",
   "metadata": {},
   "source": [
    "### import data"
   ]
  },
  {
   "cell_type": "code",
   "execution_count": 3,
   "metadata": {},
   "outputs": [],
   "source": [
    "df = pd.read_csv('../csvs/features.csv',index_col=0)\n",
    "df_regional = pd.read_csv('../csvs/regional_features.csv',index_col=0)\n",
    "df.dropna(inplace=True)\n",
    "df_regional.dropna(inplace=True)\n",
    "df_regional.drop(['file','label'],axis=1,inplace=True)"
   ]
  },
  {
   "cell_type": "code",
   "execution_count": 4,
   "metadata": {},
   "outputs": [],
   "source": [
    "df = pd.concat([df, df_regional], axis=1)"
   ]
  },
  {
   "cell_type": "code",
   "execution_count": 5,
   "metadata": {},
   "outputs": [
    {
     "name": "stdout",
     "output_type": "stream",
     "text": [
      "X (data) (1005, 119) <class 'numpy.ndarray'>\n",
      "y (target) (1005,) <class 'numpy.ndarray'> [0. 1. 2. 3.]\n",
      "y_bin (binary target) (1005,) <class 'numpy.ndarray'> [0 1]\n"
     ]
    }
   ],
   "source": [
    "X = df.drop(['file','label'],axis=1).values\n",
    "y = df.label.values\n",
    "y_bin = (y!=0).astype(int)\n",
    "print('X (data)',X.shape,type(X))\n",
    "print('y (target)',y.shape,type(y),np.unique(y))\n",
    "print('y_bin (binary target)',y_bin.shape,type(y_bin),np.unique(y_bin))"
   ]
  },
  {
   "cell_type": "markdown",
   "metadata": {},
   "source": [
    "### preprocess data to have mean=0 and variance=1"
   ]
  },
  {
   "cell_type": "code",
   "execution_count": 6,
   "metadata": {},
   "outputs": [],
   "source": [
    "from sklearn import preprocessing\n",
    "X_scaled = preprocessing.scale(X)"
   ]
  },
  {
   "cell_type": "markdown",
   "metadata": {},
   "source": [
    "### preprocess data to be on range [0,1]"
   ]
  },
  {
   "cell_type": "code",
   "execution_count": 7,
   "metadata": {},
   "outputs": [],
   "source": [
    "min_max_scaler = preprocessing.MinMaxScaler()\n",
    "X_01 = min_max_scaler.fit_transform(X)"
   ]
  },
  {
   "cell_type": "markdown",
   "metadata": {},
   "source": [
    "### testing models"
   ]
  },
  {
   "cell_type": "code",
   "execution_count": 8,
   "metadata": {},
   "outputs": [],
   "source": [
    "import warnings\n",
    "warnings.filterwarnings('ignore')\n",
    "from sklearn import svm\n",
    "from sklearn.linear_model import LogisticRegression\n",
    "from sklearn.model_selection import cross_val_score\n",
    "from sklearn.ensemble import AdaBoostClassifier\n",
    "from sklearn.neighbors import KNeighborsClassifier\n",
    "from sklearn.neural_network import MLPClassifier"
   ]
  },
  {
   "cell_type": "code",
   "execution_count": 9,
   "metadata": {},
   "outputs": [],
   "source": [
    "clfs = []\n",
    "clfs.append([svm.SVC(),'default svm'])\n",
    "#clfs.append([svm.SVC(kernel='linear'),'svc kernel linear'])\n",
    "clfs.append([LogisticRegression(random_state=0, solver='lbfgs',multi_class='multinomial'),'logistic reg'])\n",
    "clfs.append([AdaBoostClassifier(n_estimators=100), 'adaboost'])\n",
    "clfs.append([KNeighborsClassifier(n_neighbors=3), 'knn 3'])\n",
    "clfs.append([MLPClassifier(solver='lbfgs', alpha=1e-5,\n",
    "                           hidden_layer_sizes=(5, 2), random_state=1),'NN'])"
   ]
  },
  {
   "cell_type": "code",
   "execution_count": 10,
   "metadata": {},
   "outputs": [
    {
     "name": "stdout",
     "output_type": "stream",
     "text": [
      "Clf: default svm\n",
      "Accuracy: 0.70 +/- 0.00\n",
      "Clf: logistic reg\n",
      "Accuracy: 0.69 +/- 0.06\n",
      "Clf: adaboost\n",
      "Accuracy: 0.66 +/- 0.13\n",
      "Clf: knn 3\n",
      "Accuracy: 0.72 +/- 0.05\n",
      "Clf: NN\n",
      "Accuracy: 0.08 +/- 0.00\n"
     ]
    }
   ],
   "source": [
    "for clf, clf_str in clfs:\n",
    "    cv(clf,X,y,clf_str)"
   ]
  },
  {
   "cell_type": "markdown",
   "metadata": {},
   "source": [
    "### ensemble"
   ]
  },
  {
   "cell_type": "code",
   "execution_count": 11,
   "metadata": {},
   "outputs": [],
   "source": [
    "from sklearn.ensemble import VotingClassifier"
   ]
  },
  {
   "cell_type": "code",
   "execution_count": 12,
   "metadata": {},
   "outputs": [],
   "source": [
    "estimators = []\n",
    "for clf, clf_str in clfs:\n",
    "    estimators.append((clf_str, clf))"
   ]
  },
  {
   "cell_type": "code",
   "execution_count": 13,
   "metadata": {},
   "outputs": [
    {
     "name": "stdout",
     "output_type": "stream",
     "text": [
      "Clf: ensemble\n",
      "Accuracy: 0.87 +/- 0.05\n"
     ]
    }
   ],
   "source": [
    "eclf = VotingClassifier(estimators=estimators, voting='hard')\n",
    "cv(eclf,X_scaled,y_bin,'ensemble')"
   ]
  },
  {
   "cell_type": "code",
   "execution_count": 14,
   "metadata": {},
   "outputs": [
    {
     "name": "stdout",
     "output_type": "stream",
     "text": [
      "Clf: 1\n",
      "Accuracy: 0.94 +/- 0.03\n",
      "Clf: 2\n",
      "Accuracy: 0.94 +/- 0.03\n",
      "Clf: 3\n",
      "Accuracy: 0.96 +/- 0.03\n"
     ]
    }
   ],
   "source": [
    "ada_clf = AdaBoostClassifier(n_estimators=100)\n",
    "cv(ada_clf,X,y==1,'1')\n",
    "cv(ada_clf,X,y==2,'2')\n",
    "cv(ada_clf,X,y==3,'3')"
   ]
  },
  {
   "cell_type": "code",
   "execution_count": 15,
   "metadata": {},
   "outputs": [],
   "source": [
    "from sklearn.model_selection import train_test_split\n",
    "X_train, X_test, y_train, y_test = train_test_split(X, y, test_size=0.33)"
   ]
  },
  {
   "cell_type": "code",
   "execution_count": 16,
   "metadata": {},
   "outputs": [],
   "source": [
    "yhat1 = ada_clf.fit(X_train,y_train==1).predict(X_test)\n",
    "yhat2 = ada_clf.fit(X_train,y_train==2).predict(X_test)\n",
    "yhat3 = ada_clf.fit(X_train,y_train==3).predict(X_test)"
   ]
  },
  {
   "cell_type": "code",
   "execution_count": 17,
   "metadata": {},
   "outputs": [
    {
     "name": "stdout",
     "output_type": "stream",
     "text": [
      "0.9608433734939759\n",
      "0.9397590361445783\n",
      "0.963855421686747\n"
     ]
    }
   ],
   "source": [
    "print(sum(yhat1==(y_test==1))/len(yhat1))\n",
    "print(sum(yhat2==(y_test==2))/len(yhat1))\n",
    "print(sum(yhat3==(y_test==3))/len(yhat1))"
   ]
  },
  {
   "cell_type": "code",
   "execution_count": 18,
   "metadata": {},
   "outputs": [
    {
     "data": {
      "text/plain": [
       "0.8704819277108434"
      ]
     },
     "execution_count": 18,
     "metadata": {},
     "output_type": "execute_result"
    }
   ],
   "source": [
    "sum(np.logical_or.reduce((yhat1, yhat2, yhat3)) == (y_test!=0))/len(y_test)"
   ]
  },
  {
   "cell_type": "code",
   "execution_count": 19,
   "metadata": {},
   "outputs": [],
   "source": [
    "np.any(np.stack([yhat1, yhat2, yhat3]),axis=0) == np.logical_or.reduce((yhat1, yhat2, yhat3));"
   ]
  }
 ],
 "metadata": {
  "kernelspec": {
   "display_name": "Python 3",
   "language": "python",
   "name": "python3"
  },
  "language_info": {
   "codemirror_mode": {
    "name": "ipython",
    "version": 3
   },
   "file_extension": ".py",
   "mimetype": "text/x-python",
   "name": "python",
   "nbconvert_exporter": "python",
   "pygments_lexer": "ipython3",
   "version": "3.6.5"
  }
 },
 "nbformat": 4,
 "nbformat_minor": 2
}
