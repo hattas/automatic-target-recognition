{
 "cells": [
  {
   "cell_type": "code",
   "execution_count": 1,
   "metadata": {},
   "outputs": [],
   "source": [
    "import pandas as pd\n",
    "import numpy as np\n",
    "\n",
    "from sklearn.pipeline import Pipeline\n",
    "from sklearn.svm import SVC\n",
    "from sklearn.decomposition import PCA\n",
    "from sklearn.model_selection import GridSearchCV\n",
    "from sklearn.decomposition import PCA\n",
    "from sklearn import svm\n",
    "from sklearn.svm import LinearSVC\n",
    "from sklearn.model_selection import cross_val_score\n",
    "from sklearn.svm import SVC\n",
    "from sklearn import preprocessing\n",
    "from sklearn.linear_model import LogisticRegression\n",
    "from sklearn.ensemble import AdaBoostClassifier\n",
    "from sklearn.neighbors import KNeighborsClassifier\n",
    "from sklearn.neural_network import MLPClassifier\n",
    "from sklearn.model_selection import KFold\n",
    "from sklearn.model_selection import train_test_split\n",
    "from sklearn.metrics import accuracy_score, recall_score, precision_score\n",
    "from sklearn.naive_bayes import MultinomialNB\n",
    "from sklearn.ensemble import VotingClassifier\n"
   ]
  },
  {
   "cell_type": "code",
   "execution_count": 19,
   "metadata": {},
   "outputs": [],
   "source": [
    "# load from csvs\n",
    "df_features = pd.read_csv('../new_output/features.csv',index_col=0)\n",
    "#df_regional = pd.read_csv('../csvs/regional_features.csv',index_col=0)\n",
    "\n",
    "# concatenate the two df's together\n",
    "#df_regional.drop(['file','label'],axis=1,inplace=True)\n",
    "#df = pd.concat([df_features, df_regional], axis=1)\n",
    "\n",
    "# drop values with null labels (blind testing data)\n",
    "df_dropna = df_features.dropna()"
   ]
  },
  {
   "cell_type": "code",
   "execution_count": 20,
   "metadata": {},
   "outputs": [
    {
     "name": "stdout",
     "output_type": "stream",
     "text": [
      "X (data) (1005, 38) <class 'numpy.ndarray'>\n",
      "y (target) (1005,) <class 'numpy.ndarray'> [0. 1. 2. 3.]\n"
     ]
    }
   ],
   "source": [
    "X = df_dropna.drop(['file','label'],axis=1).values\n",
    "#tex = np.nan_to_num(np.load('../csvs/texture_flat_1.npy'))[:1005]\n",
    "#X = np.append(X,tex,axis=1)\n",
    "y = df_dropna.label.values\n",
    "\n",
    "print('X (data)',X.shape,type(X))\n",
    "print('y (target)',y.shape,type(y),np.unique(y))"
   ]
  },
  {
   "cell_type": "code",
   "execution_count": 82,
   "metadata": {},
   "outputs": [],
   "source": [
    "X = np.load('../new_output/simple.npy')"
   ]
  },
  {
   "cell_type": "code",
   "execution_count": 83,
   "metadata": {},
   "outputs": [],
   "source": [
    "X = X[:1005,:]\n",
    "X = preprocessing.scale(X)"
   ]
  },
  {
   "cell_type": "code",
   "execution_count": 77,
   "metadata": {},
   "outputs": [],
   "source": [
    "def getAcc(y_true,y_pred):\n",
    "    return accuracy_score(y_true,y_pred)\n",
    "\n",
    "def getPD(y_true,y_pred):\n",
    "    '''get percent detected (# targets detected / # targets)'''\n",
    "    return recall_score(y_true,y_pred)\n",
    "\n",
    "def getPFA(y_true,y_pred):\n",
    "    '''get percent false alarms (# false alarms / # non-targets)'''\n",
    "    return 1-accuracy_score(1-y_true,1-y_pred)"
   ]
  },
  {
   "cell_type": "code",
   "execution_count": 86,
   "metadata": {},
   "outputs": [
    {
     "name": "stdout",
     "output_type": "stream",
     "text": [
      "accuracy                0.8248756218905472 \n",
      "\n",
      "percent detected        0.6486097927308886 \n",
      "\n",
      "percent false alarm     0.17512437810945275 \n",
      "\n",
      "percent detected saline 0.5411190476190476\n",
      "percent detected rubber 0.7334486961821427\n",
      "percent detected clay   0.6569078144078143\n"
     ]
    }
   ],
   "source": [
    "clf = AdaBoostClassifier(n_estimators=100)\n",
    "kf = KFold(n_splits=5)\n",
    "PD,PD1,PD2,PD3 = [],[],[],[]\n",
    "PFA = []\n",
    "acc=[]\n",
    "\n",
    "for train_index, test_index in kf.split(X):\n",
    "    X_train, X_test = X[train_index], X[test_index]\n",
    "    y_train, y_test = y[train_index], y[test_index]\n",
    "    \n",
    "    predict = clf.fit(X_train, y_train!=0).predict(X_test)\n",
    "    \n",
    "    acc.append(getAcc(y_test!=0, predict))\n",
    "    PD.append(getPD(y_test!=0,   predict))\n",
    "    PD1.append(getPD(y_test==1,  predict))\n",
    "    PD2.append(getPD(y_test==2,  predict))\n",
    "    PD3.append(getPD(y_test==3,  predict))\n",
    "    PFA.append(getPFA(y_test!=0, predict))\n",
    "print('accuracy               ',np.mean(acc),'\\n')\n",
    "print('percent detected       ',np.mean(PD),'\\n')\n",
    "print('percent false alarm    ',np.mean(PFA),'\\n')\n",
    "print('percent detected saline',np.mean(PD1))\n",
    "print('percent detected rubber',np.mean(PD2))\n",
    "print('percent detected clay  ',np.mean(PD3))"
   ]
  }
 ],
 "metadata": {
  "kernelspec": {
   "display_name": "Python 3",
   "language": "python",
   "name": "python3"
  },
  "language_info": {
   "codemirror_mode": {
    "name": "ipython",
    "version": 3
   },
   "file_extension": ".py",
   "mimetype": "text/x-python",
   "name": "python",
   "nbconvert_exporter": "python",
   "pygments_lexer": "ipython3",
   "version": "3.6.5"
  }
 },
 "nbformat": 4,
 "nbformat_minor": 2
}
