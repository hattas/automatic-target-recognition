{
 "cells": [
  {
   "cell_type": "code",
   "execution_count": null,
   "metadata": {},
   "outputs": [],
   "source": [
    "import numpy as np\n",
    "import pandas as pd\n",
    "import nibabel as nib\n",
    "import itertools\n",
    "import time\n",
    "import os"
   ]
  },
  {
   "cell_type": "code",
   "execution_count": null,
   "metadata": {},
   "outputs": [],
   "source": [
    "def before_after(a, total_width):\n",
    "    before = (total_width-a)//2\n",
    "    after = total_width-before-a\n",
    "    return (before, after)\n",
    "\n",
    "\n",
    "def get_pad_width(x,y,z,total_width=400):\n",
    "    return (before_after(x,total_width),\n",
    "            before_after(y,total_width),\n",
    "            before_after(z,total_width))\n",
    "\n",
    "\n",
    "def get_padded_data(data, width=400):\n",
    "    x,y,z = list(data.shape)\n",
    "    return np.pad(data,get_pad_width(x,y,z),'constant',constant_values=0)"
   ]
  },
  {
   "cell_type": "code",
   "execution_count": null,
   "metadata": {},
   "outputs": [],
   "source": [
    "df = pd.read_csv('../csvs/GT_Training.csv', header=None, names=['file','label'])\n",
    "df.file = df.file.map(lambda x: x.replace(\"'\",''))\n",
    "df['img'] = df.file.map(lambda x: nib.load('../data/' + str(x) + '.nii.gz'))"
   ]
  },
  {
   "cell_type": "code",
   "execution_count": null,
   "metadata": {},
   "outputs": [],
   "source": [
    "start = time.time()\n",
    "start100 = start\n",
    "for i, img in enumerate(df.img):\n",
    "    if i % 5 == 0 and i != 0:\n",
    "        now = time.time()\n",
    "        print('i = {:<10d}time for last 5 = {:<10.3g}total time = {:<10.3g}'.format(i,now-start100,now-start))\n",
    "        start100 = time.time()\n",
    "    export_path = '../data_padded/' + str(df.file[i]) + '.nii.gz'\n",
    "    if not os.path.isfile(export_path):\n",
    "        padded = get_padded_data(img.get_fdata())\n",
    "        padded_img = nib.Nifti1Image(padded, img.affine)\n",
    "        nib.save(padded_img, export_path)\n",
    "\n",
    "print('Done with {:d} rows. Total time = {:<10.3g}'.format(len(df),time.time()-start))"
   ]
  }
 ],
 "metadata": {
  "kernelspec": {
   "display_name": "Python 3",
   "language": "python",
   "name": "python3"
  },
  "language_info": {
   "codemirror_mode": {
    "name": "ipython",
    "version": 3
   },
   "file_extension": ".py",
   "mimetype": "text/x-python",
   "name": "python",
   "nbconvert_exporter": "python",
   "pygments_lexer": "ipython3",
   "version": "3.7.0"
  }
 },
 "nbformat": 4,
 "nbformat_minor": 2
}
