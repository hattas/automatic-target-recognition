{
 "cells": [
  {
   "cell_type": "code",
   "execution_count": null,
   "metadata": {},
   "outputs": [],
   "source": [
    "import numpy as np\n",
    "import pandas as pd\n",
    "import nibabel as nib\n",
    "import itertools\n",
    "import time"
   ]
  },
  {
   "cell_type": "code",
   "execution_count": null,
   "metadata": {},
   "outputs": [],
   "source": [
    "def before_after(a, total_width):\n",
    "    before = (total_width-a)//2\n",
    "    after = total_width-before-a\n",
    "    return (before, after)\n",
    "\n",
    "\n",
    "def get_pad_width(x,y,z,total_width=400):\n",
    "    return (before_after(x,total_width),\n",
    "            before_after(y,total_width),\n",
    "            before_after(z,total_width))\n",
    "\n",
    "\n",
    "def get_padded_data(data, width=400):\n",
    "    x,y,z = list(data.shape)\n",
    "    return np.pad(data,get_pad_width(x,y,z),'constant',constant_values=0)\n",
    "\n",
    "\n",
    "def get_block_means(data, width=400, num_blocks=4):\n",
    "    block_means=[]\n",
    "    ix = []\n",
    "    for i in range(num_blocks):\n",
    "        ix.append([width // num_blocks * i, width // num_blocks * (i+1)])\n",
    "    count = 0\n",
    "    for i, j, k in itertools.product(ix,ix,ix):\n",
    "        block_means.append(np.mean(data[i[0]:i[-1],j[0]:j[-1],k[0]:k[-1]]))\n",
    "    return block_means\n",
    "\n",
    "\n",
    "def get_centered_block_means(data, width=400, num_blocks=10):\n",
    "    ix = []\n",
    "    for i in range(num_blocks):\n",
    "        half_width = width//2\n",
    "        half_region = width//num_blocks//2*(i+1)\n",
    "        ix.append([half_width-half_region, half_width+half_region])\n",
    "    centered_means = []\n",
    "    for i in ix:\n",
    "        centered_means.append(np.mean(padded[i[0]:i[-1],i[0]:i[-1],i[0]:i[-1]]))\n",
    "    return centered_means"
   ]
  },
  {
   "cell_type": "code",
   "execution_count": null,
   "metadata": {},
   "outputs": [],
   "source": [
    "df = pd.read_csv('../csvs/GT_Training.csv', header=None, names=['file','label'])\n",
    "df.file = df.file.map(lambda x: x.replace(\"'\",''))\n",
    "df['img'] = df.file.map(lambda x: nib.load('../data/' + str(x) + '.nii.gz'))"
   ]
  },
  {
   "cell_type": "code",
   "execution_count": null,
   "metadata": {},
   "outputs": [],
   "source": [
    "blocks = 4\n",
    "block_labels = ['block_' + str(x) + '_mean' for x in range(1,blocks**3+1)]\n",
    "centered_blocks = 10\n",
    "centered_block_labels = ['centered_block_' + str(x) + '_mean' for x in range(1,centered_blocks+1)]\n",
    "new_features = block_labels + centered_block_labels\n",
    "try:\n",
    "  df = df.reindex(columns = df.columns.tolist() + new_features)\n",
    "except: \n",
    "    pass"
   ]
  },
  {
   "cell_type": "code",
   "execution_count": null,
   "metadata": {},
   "outputs": [],
   "source": [
    "start = time.time()\n",
    "start100 = start\n",
    "for i, img in enumerate(df.img):\n",
    "    if i % 25 == 0 and i != 0:\n",
    "        now = time.time()\n",
    "        print('i = {:<10d}time for last 25 = {:<10.3g}total time = {:<10.3g}'.format(i,now-start100,now-start))\n",
    "        start100 = time.time()\n",
    "    padded = get_padded_data(img.get_fdata())\n",
    "    region_means = get_block_means(padded)\n",
    "    centered_means = get_centered_block_means(padded)\n",
    "    features = region_means + centered_means\n",
    "    df.loc[df.index==i,new_features] = features\n",
    "\n",
    "print('Done with {:d} rows. Total time = {:<10.3g}'.format(len(df),time.time()-start))"
   ]
  },
  {
   "cell_type": "code",
   "execution_count": null,
   "metadata": {},
   "outputs": [],
   "source": [
    "df.drop('img',axis=1).to_csv('../new_output/regional_features.csv')"
   ]
  }
 ],
 "metadata": {
  "kernelspec": {
   "display_name": "Python 3",
   "language": "python",
   "name": "python3"
  },
  "language_info": {
   "codemirror_mode": {
    "name": "ipython",
    "version": 3
   },
   "file_extension": ".py",
   "mimetype": "text/x-python",
   "name": "python",
   "nbconvert_exporter": "python",
   "pygments_lexer": "ipython3",
   "version": "3.6.5"
  }
 },
 "nbformat": 4,
 "nbformat_minor": 2
}
