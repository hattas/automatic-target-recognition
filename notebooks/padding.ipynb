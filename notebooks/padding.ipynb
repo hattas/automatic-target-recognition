{
 "cells": [
  {
   "cell_type": "code",
   "execution_count": 1,
   "metadata": {},
   "outputs": [],
   "source": [
    "import numpy as np\n",
    "import pandas as pd\n",
    "import nibabel as nib\n",
    "import itertools\n",
    "import time"
   ]
  },
  {
   "cell_type": "code",
   "execution_count": 2,
   "metadata": {},
   "outputs": [],
   "source": [
    "def before_after(a, total_width):\n",
    "    before = (total_width-a)//2\n",
    "    after = total_width-before-a\n",
    "    return (before, after)\n",
    "\n",
    "\n",
    "def get_pad_width(x,y,z,total_width=400):\n",
    "    return (before_after(x,total_width),\n",
    "            before_after(y,total_width),\n",
    "            before_after(z,total_width))\n",
    "\n",
    "\n",
    "def get_padded_data(data, width=400):\n",
    "    x,y,z = list(data.shape)\n",
    "    return np.pad(data,get_pad_width(x,y,z),'constant',constant_values=0)\n",
    "\n",
    "\n",
    "def get_block_means(data, width=400, num_blocks=4):\n",
    "    block_means=[]\n",
    "    ix = []\n",
    "    for i in range(num_blocks):\n",
    "        ix.append([width // num_blocks * i, width // num_blocks * (i+1)])\n",
    "    count = 0\n",
    "    for i, j, k in itertools.product(ix,ix,ix):\n",
    "        block_means.append(np.mean(data[i[0]:i[-1],j[0]:j[-1],k[0]:k[-1]]))\n",
    "    return block_means\n",
    "\n",
    "\n",
    "def get_centered_block_means(data, width=400, num_blocks=10):\n",
    "    ix = []\n",
    "    for i in range(num_blocks):\n",
    "        half_width = width//2\n",
    "        half_region = width//num_blocks//2*(i+1)\n",
    "        ix.append([half_width-half_region, half_width+half_region])\n",
    "    centered_means = []\n",
    "    for i in ix:\n",
    "        centered_means.append(np.mean(padded[i[0]:i[-1],i[0]:i[-1],i[0]:i[-1]]))\n",
    "    return centered_means"
   ]
  },
  {
   "cell_type": "code",
   "execution_count": 3,
   "metadata": {},
   "outputs": [],
   "source": [
    "df = pd.read_csv('GT_Training.csv', header=None, names=['file','label'])\n",
    "df.file = df.file.map(lambda x: x.replace(\"'\",''))\n",
    "df['img'] = df.file.map(lambda x: nib.load('data\\\\' + str(x) + '.nii.gz'))"
   ]
  },
  {
   "cell_type": "code",
   "execution_count": 4,
   "metadata": {},
   "outputs": [],
   "source": [
    "blocks = 4\n",
    "block_labels = ['block_' + str(x) + '_mean' for x in range(1,blocks**3+1)]\n",
    "centered_blocks = 10\n",
    "centered_block_labels = ['centered_block_' + str(x) + '_mean' for x in range(1,centered_blocks+1)]\n",
    "new_features = block_labels + centered_block_labels\n",
    "try:\n",
    "  df = df.reindex(columns = df.columns.tolist() + new_features)\n",
    "except: \n",
    "    pass"
   ]
  },
  {
   "cell_type": "code",
   "execution_count": 5,
   "metadata": {},
   "outputs": [
    {
     "name": "stdout",
     "output_type": "stream",
     "text": [
      "i = 25        time for last 25 = 42.2      total time = 42.2      \n",
      "i = 50        time for last 25 = 42        total time = 84.2      \n",
      "i = 75        time for last 25 = 40.6      total time = 125       \n",
      "i = 100       time for last 25 = 43.5      total time = 168       \n",
      "i = 125       time for last 25 = 46.1      total time = 214       \n",
      "i = 150       time for last 25 = 44.6      total time = 259       \n",
      "i = 175       time for last 25 = 47.6      total time = 307       \n",
      "i = 200       time for last 25 = 44.4      total time = 351       \n",
      "i = 225       time for last 25 = 39.6      total time = 391       \n",
      "i = 250       time for last 25 = 44.1      total time = 435       \n",
      "i = 275       time for last 25 = 48.6      total time = 483       \n",
      "i = 300       time for last 25 = 43.9      total time = 527       \n",
      "i = 325       time for last 25 = 49.8      total time = 577       \n",
      "i = 350       time for last 25 = 42.8      total time = 620       \n",
      "i = 375       time for last 25 = 45.8      total time = 666       \n",
      "i = 400       time for last 25 = 38.8      total time = 704       \n",
      "i = 425       time for last 25 = 37.5      total time = 742       \n",
      "i = 450       time for last 25 = 39.4      total time = 781       \n",
      "i = 475       time for last 25 = 37        total time = 818       \n",
      "i = 500       time for last 25 = 41.1      total time = 859       \n",
      "i = 525       time for last 25 = 37.8      total time = 897       \n",
      "i = 550       time for last 25 = 38        total time = 935       \n",
      "i = 575       time for last 25 = 39.5      total time = 975       \n",
      "i = 600       time for last 25 = 38.4      total time = 1.01e+03  \n",
      "i = 625       time for last 25 = 38.1      total time = 1.05e+03  \n",
      "i = 650       time for last 25 = 38.1      total time = 1.09e+03  \n",
      "i = 675       time for last 25 = 37.1      total time = 1.13e+03  \n",
      "i = 700       time for last 25 = 38.7      total time = 1.17e+03  \n",
      "i = 725       time for last 25 = 50.2      total time = 1.22e+03  \n",
      "i = 750       time for last 25 = 46.8      total time = 1.26e+03  \n",
      "i = 775       time for last 25 = 37.4      total time = 1.3e+03   \n",
      "i = 800       time for last 25 = 38        total time = 1.34e+03  \n",
      "i = 825       time for last 25 = 36.5      total time = 1.37e+03  \n",
      "i = 850       time for last 25 = 38.8      total time = 1.41e+03  \n",
      "i = 875       time for last 25 = 43        total time = 1.46e+03  \n",
      "i = 900       time for last 25 = 38.6      total time = 1.49e+03  \n",
      "i = 925       time for last 25 = 37.7      total time = 1.53e+03  \n",
      "i = 950       time for last 25 = 37.1      total time = 1.57e+03  \n",
      "i = 975       time for last 25 = 38        total time = 1.61e+03  \n",
      "i = 1000      time for last 25 = 37.2      total time = 1.64e+03  \n",
      "i = 1025      time for last 25 = 38        total time = 1.68e+03  \n",
      "i = 1050      time for last 25 = 37.9      total time = 1.72e+03  \n",
      "i = 1075      time for last 25 = 38.9      total time = 1.76e+03  \n",
      "i = 1100      time for last 25 = 36.3      total time = 1.8e+03   \n",
      "i = 1125      time for last 25 = 38.3      total time = 1.83e+03  \n",
      "i = 1150      time for last 25 = 41.7      total time = 1.88e+03  \n",
      "i = 1175      time for last 25 = 53        total time = 1.93e+03  \n",
      "i = 1200      time for last 25 = 78.3      total time = 2.01e+03  \n",
      "i = 1225      time for last 25 = 71.3      total time = 2.08e+03  \n",
      "i = 1250      time for last 25 = 78.4      total time = 2.16e+03  \n",
      "i = 1275      time for last 25 = 70.8      total time = 2.23e+03  \n",
      "i = 1300      time for last 25 = 74.2      total time = 2.3e+03   \n",
      "i = 1325      time for last 25 = 74.2      total time = 2.38e+03  \n",
      "i = 1350      time for last 25 = 77.9      total time = 2.45e+03  \n",
      "i = 1375      time for last 25 = 57.2      total time = 2.51e+03  \n",
      "i = 1400      time for last 25 = 33.3      total time = 2.54e+03  \n",
      "i = 1425      time for last 25 = 34.6      total time = 2.58e+03  \n",
      "i = 1450      time for last 25 = 33        total time = 2.61e+03  \n",
      "Done with 1472 rows. Total time = 2.64e+03  \n"
     ]
    }
   ],
   "source": [
    "start = time.time()\n",
    "start100 = start\n",
    "for i, img in enumerate(df.img):\n",
    "    if i % 25 == 0 and i != 0:\n",
    "        now = time.time()\n",
    "        print('i = {:<10d}time for last 25 = {:<10.3g}total time = {:<10.3g}'.format(i,now-start100,now-start))\n",
    "        start100 = time.time()\n",
    "    padded = get_padded_data(img.get_fdata())\n",
    "    region_means = get_block_means(padded)\n",
    "    centered_means = get_centered_block_means(padded)\n",
    "    features = region_means + centered_means\n",
    "    df.loc[df.index==i,new_features] = features\n",
    "\n",
    "print('Done with {:d} rows. Total time = {:<10.3g}'.format(len(df),time.time()-start))"
   ]
  },
  {
   "cell_type": "code",
   "execution_count": 8,
   "metadata": {},
   "outputs": [],
   "source": [
    "df.drop('img',axis=1).to_csv('regional_features.csv')"
   ]
  }
 ],
 "metadata": {
  "kernelspec": {
   "display_name": "Python 3",
   "language": "python",
   "name": "python3"
  },
  "language_info": {
   "codemirror_mode": {
    "name": "ipython",
    "version": 3
   },
   "file_extension": ".py",
   "mimetype": "text/x-python",
   "name": "python",
   "nbconvert_exporter": "python",
   "pygments_lexer": "ipython3",
   "version": "3.6.5"
  }
 },
 "nbformat": 4,
 "nbformat_minor": 2
}
