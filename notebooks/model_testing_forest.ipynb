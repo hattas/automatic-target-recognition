{
 "cells": [
  {
   "cell_type": "code",
   "execution_count": 2,
   "metadata": {},
   "outputs": [],
   "source": [
    "import pandas as pd\n",
    "import numpy as np\n",
    "\n",
    "from sklearn.pipeline import Pipeline\n",
    "from sklearn.svm import SVC\n",
    "from sklearn.decomposition import PCA\n",
    "from sklearn.model_selection import GridSearchCV\n",
    "from sklearn.decomposition import PCA\n",
    "from sklearn import svm\n",
    "from sklearn.svm import LinearSVC\n",
    "from sklearn.model_selection import cross_val_score\n",
    "from sklearn.svm import SVC\n",
    "from sklearn import preprocessing\n",
    "from sklearn.linear_model import LogisticRegression\n",
    "from sklearn.ensemble import AdaBoostClassifier\n",
    "from sklearn.neighbors import KNeighborsClassifier\n",
    "from sklearn.neural_network import MLPClassifier\n",
    "from sklearn.model_selection import KFold\n",
    "from sklearn.model_selection import train_test_split\n",
    "from sklearn.metrics import accuracy_score, recall_score, precision_score\n",
    "from sklearn.naive_bayes import MultinomialNB\n",
    "from sklearn.ensemble import VotingClassifier\n"
   ]
  },
  {
   "cell_type": "code",
   "execution_count": 115,
   "metadata": {},
   "outputs": [
    {
     "data": {
      "text/plain": [
       "(1472, 234)"
      ]
     },
     "execution_count": 115,
     "metadata": {},
     "output_type": "execute_result"
    }
   ],
   "source": [
    "features_texture.shape"
   ]
  },
  {
   "cell_type": "code",
   "execution_count": 108,
   "metadata": {},
   "outputs": [],
   "source": [
    "features_texture = np.load('texture_flat_1.npy')"
   ]
  },
  {
   "cell_type": "code",
   "execution_count": 116,
   "metadata": {},
   "outputs": [
    {
     "data": {
      "text/plain": [
       "(1472, 327)"
      ]
     },
     "execution_count": 116,
     "metadata": {},
     "output_type": "execute_result"
    }
   ],
   "source": [
    "df_regional = pd.read_csv('../csvs/regional_features.csv',index_col=0)\n",
    "features_regional = df_regional.iloc[:,2:].values\n",
    "features_shape = np.load('features_shape.npy')\n",
    "features_stats = np.load('features_stats.npy')\n",
    "features_histogram = np.load('features_histogram.npy')\n",
    "\n",
    "features = np.concatenate((features_regional,features_shape,\n",
    "                           features_stats,features_histogram, np.nan_to_num(features_texture)),axis=1)\n",
    "features.shape"
   ]
  },
  {
   "cell_type": "code",
   "execution_count": 117,
   "metadata": {},
   "outputs": [
    {
     "name": "stdout",
     "output_type": "stream",
     "text": [
      "X (data) (1005, 327) <class 'numpy.ndarray'>\n",
      "y (target) (1005,) <class 'numpy.ndarray'> [0. 1. 2. 3.]\n",
      "y_bin (binary target) (1005,) <class 'numpy.ndarray'> [0 1]\n"
     ]
    }
   ],
   "source": [
    "#X = df.drop(['file','label'],axis=1).values\n",
    "X = features[:1005]\n",
    "y = df_regional.label.values[:1005]\n",
    "y_bin = (y!=0).astype(int)\n",
    "print('X (data)',X.shape,type(X))\n",
    "print('y (target)',y.shape,type(y),np.unique(y))\n",
    "print('y_bin (binary target)',y_bin.shape,type(y_bin),np.unique(y_bin))"
   ]
  },
  {
   "cell_type": "code",
   "execution_count": 118,
   "metadata": {},
   "outputs": [],
   "source": [
    "X = preprocessing.scale(X)"
   ]
  },
  {
   "cell_type": "code",
   "execution_count": 6,
   "metadata": {},
   "outputs": [],
   "source": [
    "def getAcc(y_true,y_pred):\n",
    "    return accuracy_score(y_true,y_pred)\n",
    "\n",
    "def getPD(y_true,y_pred):\n",
    "    '''get percent detected (# targets detected / # targets)'''\n",
    "    return recall_score(y_true,y_pred)\n",
    "\n",
    "def getPFA(y_true,y_pred):\n",
    "    '''get percent false alarms (# false alarms / # non-targets)'''\n",
    "    return 1-accuracy_score(1-y_true,1-y_pred)"
   ]
  },
  {
   "cell_type": "code",
   "execution_count": 112,
   "metadata": {},
   "outputs": [],
   "source": [
    "def print_results(X, y, clf, strr):\n",
    "    kf = KFold(n_splits=5)\n",
    "    PD,PD1,PD2,PD3 = [],[],[],[]\n",
    "    PFA = []\n",
    "    acc=[]\n",
    "\n",
    "    for train_index, test_index in kf.split(X):\n",
    "        X_train, X_test = X[train_index], X[test_index]\n",
    "        y_train, y_test = y[train_index], y[test_index]\n",
    "\n",
    "        predict = clf.fit(X_train, y_train!=0).predict(X_test)\n",
    "\n",
    "        acc.append(getAcc(y_test!=0, predict))\n",
    "        PD.append(getPD(y_test!=0,   predict))\n",
    "        PD1.append(getPD(y_test==1,  predict))\n",
    "        PD2.append(getPD(y_test==2,  predict))\n",
    "        PD3.append(getPD(y_test==3,  predict))\n",
    "        PFA.append(getPFA(y_test!=0, predict))\n",
    "    \n",
    "    print(strr)\n",
    "    print('accuracy               ',np.mean(acc),'\\n')\n",
    "    print('percent detected       ',np.mean(PD),'\\n')\n",
    "    print('percent false alarm    ',np.mean(PFA),'\\n')\n",
    "    print('percent detected saline',np.mean(PD1))\n",
    "    print('percent detected rubber',np.mean(PD2))\n",
    "    print('percent detected clay  ',np.mean(PD3))\n",
    "    print('\\n\\n')\n",
    "    return np.mean(PD)"
   ]
  },
  {
   "cell_type": "code",
   "execution_count": 26,
   "metadata": {},
   "outputs": [],
   "source": [
    "clfs = []\n",
    "clfs.append([svm.SVC(),'default svm'])\n",
    "clfs.append([LogisticRegression(random_state=0, solver='lbfgs',multi_class='multinomial'),'logistic reg'])\n",
    "clfs.append([AdaBoostClassifier(n_estimators=100), 'adaboost'])\n",
    "clfs.append([KNeighborsClassifier(n_neighbors=3), 'knn 3'])\n",
    "clfs.append([MLPClassifier(solver='lbfgs', alpha=1e-5,\n",
    "                           hidden_layer_sizes=(5, 2), random_state=1),'NN'])\n",
    "estimators = []\n",
    "for clf, clf_str in clfs:\n",
    "    estimators.append((clf_str, clf))\n",
    "eclf = VotingClassifier(estimators=estimators, voting='hard')"
   ]
  },
  {
   "cell_type": "code",
   "execution_count": 27,
   "metadata": {},
   "outputs": [],
   "source": [
    "import warnings\n",
    "warnings.filterwarnings('ignore')"
   ]
  },
  {
   "cell_type": "code",
   "execution_count": 28,
   "metadata": {},
   "outputs": [
    {
     "data": {
      "text/plain": [
       "(1005,)"
      ]
     },
     "execution_count": 28,
     "metadata": {},
     "output_type": "execute_result"
    }
   ],
   "source": [
    "y_bin.shape"
   ]
  },
  {
   "cell_type": "code",
   "execution_count": 88,
   "metadata": {},
   "outputs": [],
   "source": [
    "e = [5, 10, 20, 40, 60, 80, 100, 150, 200, 250, 300, 500]\n",
    "from sklearn.ensemble import RandomForestClassifier\n",
    "p = []\n",
    "for ee in e:\n",
    "    p.append(print_results(X, y, RandomForestClassifier(n_estimators=ee, max_depth=None, min_samples_split=2), 'ensemble'))"
   ]
  },
  {
   "cell_type": "code",
   "execution_count": 89,
   "metadata": {},
   "outputs": [
    {
     "data": {
      "image/png": "[encoded data removed]",
      "text/plain": [
       "<Figure size 432x288 with 1 Axes>"
      ]
     },
     "metadata": {
      "needs_background": "light"
     },
     "output_type": "display_data"
    }
   ],
   "source": [
    "import matplotlib.pyplot as plt\n",
    "plt.plot(e,p)\n",
    "plt.xlabel('number of estimators')\n",
    "plt.ylabel('recall rate (%)')\n",
    "plt.savefig('estimators.png')\n",
    "plt.show()"
   ]
  },
  {
   "cell_type": "code",
   "execution_count": 70,
   "metadata": {},
   "outputs": [
    {
     "data": {
      "text/plain": [
       "(1005, 93)"
      ]
     },
     "execution_count": 70,
     "metadata": {},
     "output_type": "execute_result"
    }
   ],
   "source": [
    "X.shape"
   ]
  },
  {
   "cell_type": "code",
   "execution_count": 97,
   "metadata": {},
   "outputs": [],
   "source": [
    "ee = [1, 2, 5, 10, 20, 30, 50, 75, 90]\n",
    "from sklearn.ensemble import RandomForestClassifier\n",
    "pp = []\n",
    "for eee in ee:\n",
    "    pp.append(print_results(X, y, RandomForestClassifier(n_estimators=100, max_depth=None, min_samples_split=2, max_features=eee), 'ensemble'))"
   ]
  },
  {
   "cell_type": "code",
   "execution_count": 98,
   "metadata": {},
   "outputs": [
    {
     "data": {
      "image/png": "[encoded data removed]",
      "text/plain": [
       "<Figure size 432x288 with 1 Axes>"
      ]
     },
     "metadata": {
      "needs_background": "light"
     },
     "output_type": "display_data"
    }
   ],
   "source": [
    "import matplotlib.pyplot as plt\n",
    "plt.plot(ee,pp)\n",
    "plt.xlabel('max number of features')\n",
    "plt.ylabel('recall rate (%)')\n",
    "plt.savefig('features.png')\n",
    "plt.show()"
   ]
  },
  {
   "cell_type": "code",
   "execution_count": 121,
   "metadata": {},
   "outputs": [
    {
     "name": "stdout",
     "output_type": "stream",
     "text": [
      "hi\n",
      "accuracy                0.8547263681592039 \n",
      "\n",
      "percent detected        0.6392694566130233 \n",
      "\n",
      "percent false alarm     0.145273631840796 \n",
      "\n",
      "percent detected saline 0.4768809523809524\n",
      "percent detected rubber 0.6853304166122502\n",
      "percent detected clay   0.7976098901098901\n",
      "\n",
      "\n",
      "\n"
     ]
    },
    {
     "data": {
      "text/plain": [
       "0.6392694566130233"
      ]
     },
     "execution_count": 121,
     "metadata": {},
     "output_type": "execute_result"
    }
   ],
   "source": [
    "clff = RandomForestClassifier(n_estimators=100, max_depth=None, min_samples_split=2)\n",
    "print_results(X, y, clff, 'hi')"
   ]
  }
 ],
 "metadata": {
  "kernelspec": {
   "display_name": "Python 3",
   "language": "python",
   "name": "python3"
  },
  "language_info": {
   "codemirror_mode": {
    "name": "ipython",
    "version": 3
   },
   "file_extension": ".py",
   "mimetype": "text/x-python",
   "name": "python",
   "nbconvert_exporter": "python",
   "pygments_lexer": "ipython3",
   "version": "3.7.0"
  }
 },
 "nbformat": 4,
 "nbformat_minor": 2
}
