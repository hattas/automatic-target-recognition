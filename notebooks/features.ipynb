{
 "cells": [
  {
   "cell_type": "markdown",
   "metadata": {},
   "source": [
    "# Feature Extraction"
   ]
  },
  {
   "cell_type": "code",
   "execution_count": 1,
   "metadata": {},
   "outputs": [],
   "source": [
    "import pandas as pd\n",
    "import numpy as np\n",
    "import nibabel as nib\n",
    "from scipy import ndimage as nd\n",
    "from scipy import stats\n",
    "import time\n",
    "from os.path import join\n",
    "\n",
    "pd.set_option('display.max_columns', 100)"
   ]
  },
  {
   "cell_type": "markdown",
   "metadata": {},
   "source": [
    "## load images into dataframe"
   ]
  },
  {
   "cell_type": "code",
   "execution_count": 2,
   "metadata": {},
   "outputs": [],
   "source": [
    "df = pd.read_csv(join('..','csvs','GT_Training.csv'), header=None, names=['file','label'])\n",
    "df.file = df.file.map(lambda x: x.replace(\"'\",''))\n",
    "df['img'] = df.file.map(lambda x: nib.load(join('..','data',str(x)+'.nii.gz')))"
   ]
  },
  {
   "cell_type": "code",
   "execution_count": 3,
   "metadata": {},
   "outputs": [
    {
     "data": {
      "text/html": [
       "<div>\n",
       "<style scoped>\n",
       "    .dataframe tbody tr th:only-of-type {\n",
       "        vertical-align: middle;\n",
       "    }\n",
       "\n",
       "    .dataframe tbody tr th {\n",
       "        vertical-align: top;\n",
       "    }\n",
       "\n",
       "    .dataframe thead th {\n",
       "        text-align: right;\n",
       "    }\n",
       "</style>\n",
       "<table border=\"1\" class=\"dataframe\">\n",
       "  <thead>\n",
       "    <tr style=\"text-align: right;\">\n",
       "      <th></th>\n",
       "      <th>file</th>\n",
       "      <th>label</th>\n",
       "      <th>img</th>\n",
       "    </tr>\n",
       "  </thead>\n",
       "  <tbody>\n",
       "    <tr>\n",
       "      <th>0</th>\n",
       "      <td>I004_1</td>\n",
       "      <td>0.0</td>\n",
       "      <td>&lt;class 'nibabel.nifti1.Nifti1Image'&gt;\\ndata sha...</td>\n",
       "    </tr>\n",
       "    <tr>\n",
       "      <th>1</th>\n",
       "      <td>I004_2</td>\n",
       "      <td>0.0</td>\n",
       "      <td>&lt;class 'nibabel.nifti1.Nifti1Image'&gt;\\ndata sha...</td>\n",
       "    </tr>\n",
       "    <tr>\n",
       "      <th>2</th>\n",
       "      <td>I004_3</td>\n",
       "      <td>1.0</td>\n",
       "      <td>&lt;class 'nibabel.nifti1.Nifti1Image'&gt;\\ndata sha...</td>\n",
       "    </tr>\n",
       "    <tr>\n",
       "      <th>3</th>\n",
       "      <td>I005_1</td>\n",
       "      <td>0.0</td>\n",
       "      <td>&lt;class 'nibabel.nifti1.Nifti1Image'&gt;\\ndata sha...</td>\n",
       "    </tr>\n",
       "    <tr>\n",
       "      <th>4</th>\n",
       "      <td>I005_2</td>\n",
       "      <td>0.0</td>\n",
       "      <td>&lt;class 'nibabel.nifti1.Nifti1Image'&gt;\\ndata sha...</td>\n",
       "    </tr>\n",
       "  </tbody>\n",
       "</table>\n",
       "</div>"
      ],
      "text/plain": [
       "     file  label                                                img\n",
       "0  I004_1    0.0  <class 'nibabel.nifti1.Nifti1Image'>\\ndata sha...\n",
       "1  I004_2    0.0  <class 'nibabel.nifti1.Nifti1Image'>\\ndata sha...\n",
       "2  I004_3    1.0  <class 'nibabel.nifti1.Nifti1Image'>\\ndata sha...\n",
       "3  I005_1    0.0  <class 'nibabel.nifti1.Nifti1Image'>\\ndata sha...\n",
       "4  I005_2    0.0  <class 'nibabel.nifti1.Nifti1Image'>\\ndata sha..."
      ]
     },
     "execution_count": 3,
     "metadata": {},
     "output_type": "execute_result"
    }
   ],
   "source": [
    "df = df[['file','label','img']]\n",
    "df.head()"
   ]
  },
  {
   "cell_type": "markdown",
   "metadata": {},
   "source": [
    "## create columns in dataframe for new features"
   ]
  },
  {
   "cell_type": "code",
   "execution_count": 58,
   "metadata": {},
   "outputs": [
    {
     "name": "stdout",
     "output_type": "stream",
     "text": [
      "38 new features\n",
      "['x', 'y', 'z', 'xyz', 'xcom', 'ycom', 'zcom', 'max', 'xmax', 'ymax', 'zmax', 'mean', 'median', 'std', 'variance', 'skew', 'kurtosis', 'entropy', 'hist0', 'hist1', 'hist2', 'hist3', 'hist4', 'hist5', 'hist6', 'hist7', 'hist8', 'hist9', 'hist_norm0', 'hist_norm1', 'hist_norm2', 'hist_norm3', 'hist_norm4', 'hist_norm5', 'hist_norm6', 'hist_norm7', 'hist_norm8', 'hist_norm9']\n"
     ]
    }
   ],
   "source": [
    "hist_labels = ['hist' + str(x) for x in range(0,10)]\n",
    "new_features = 'x y z xyz xcom ycom zcom max xmax ymax zmax mean median std variance skew kurtosis entropy'.split() + hist_labels\n",
    "try:\n",
    "  df = df.reindex(columns = df.columns.tolist() + new_features)\n",
    "except: \n",
    "    pass\n",
    "print(len(new_features),'new features')\n",
    "print(new_features)"
   ]
  },
  {
   "cell_type": "markdown",
   "metadata": {},
   "source": [
    "## calculate features for each example image"
   ]
  },
  {
   "cell_type": "code",
   "execution_count": 103,
   "metadata": {},
   "outputs": [
    {
     "name": "stdout",
     "output_type": "stream",
     "text": [
      "i= 100 \ttime= 7.0172364711761475\n",
      "i= 200 \ttime= 17.82236647605896\n",
      "i= 300 \ttime= 24.16241192817688\n",
      "i= 400 \ttime= 29.225863933563232\n",
      "i= 500 \ttime= 36.00471043586731\n",
      "i= 600 \ttime= 43.61034655570984\n",
      "i= 700 \ttime= 51.5311758518219\n",
      "i= 800 \ttime= 58.77179002761841\n",
      "i= 900 \ttime= 65.00311827659607\n",
      "i= 1000 \ttime= 71.42198324203491\n",
      "i= 1100 \ttime= 77.42193341255188\n",
      "i= 1200 \ttime= 85.82844519615173\n",
      "i= 1300 \ttime= 93.41810607910156\n",
      "i= 1400 \ttime= 102.58638954162598\n",
      "Done with 1472 rows. Total time = 111       \n"
     ]
    }
   ],
   "source": [
    "start = time.time()\n",
    "\n",
    "features_shape, features_stats, features_histogram = [], [], []\n",
    "\n",
    "for i, img in enumerate(df.img):\n",
    "    \n",
    "    if i % 100 == 0 and i != 0: print('i=',i,'\\ttime=',time.time()-start)\n",
    "        \n",
    "    data = img.get_fdata()\n",
    "    nonzero = data[np.nonzero(data)]\n",
    "    \n",
    "    x,y,z = img.shape\n",
    "    num_pixels = np.\n",
    "    max_dim = np.max(img.shape)\n",
    "    mid_dim = np.median(img.shape)\n",
    "    min_dim = np.min(img.shape)\n",
    "    \n",
    "    histogram = nd.histogram(nonzero,0,2700,4)\n",
    "    \n",
    "    mean = nd.mean(nonzero)\n",
    "    median = nd.median(nonzero)\n",
    "    max_ = np.max(nonzero)\n",
    "    std = nd.standard_deviation(nonzero)\n",
    "    var = nd.variance(nonzero)\n",
    "    \n",
    "    skew = stats.skew(nonzero,axis=None)\n",
    "    kurtosis = stats.kurtosis(nonzero,axis=None)\n",
    "    entropy = stats.entropy(histogram)\n",
    "    \n",
    "    features_shape.append([x,y,z,num_pixels,max_dim,mid_dim,min_dim])\n",
    "    features_stats.append([mean,median,max_,std,var,skew,kurtosis,entropy])\n",
    "    features_histogram.append(list(histogram))\n",
    "    \n",
    "    #df.loc[df.index==i,new_features] = features\n",
    "\n",
    "print('Done with {:d} rows. Total time = {:<10.3g}'.format(len(df),time.time()-start))\n",
    "np.save('features_shape.npy',    np.array(features_shape))\n",
    "np.save('features_stats.npy',    np.array(features_stats))\n",
    "np.save('features_histogram.npy',np.array(features_histogram))"
   ]
  }
 ],
 "metadata": {
  "kernelspec": {
   "display_name": "Python 3",
   "language": "python",
   "name": "python3"
  },
  "language_info": {
   "codemirror_mode": {
    "name": "ipython",
    "version": 3
   },
   "file_extension": ".py",
   "mimetype": "text/x-python",
   "name": "python",
   "nbconvert_exporter": "python",
   "pygments_lexer": "ipython3",
   "version": "3.7.0"
  }
 },
 "nbformat": 4,
 "nbformat_minor": 2
}
