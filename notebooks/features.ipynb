{
 "cells": [
  {
   "cell_type": "markdown",
   "metadata": {},
   "source": [
    "# Feature Extraction"
   ]
  },
  {
   "cell_type": "code",
   "execution_count": null,
   "metadata": {},
   "outputs": [],
   "source": [
    "import pandas as pd\n",
    "import numpy as np\n",
    "import nibabel as nib\n",
    "from scipy import ndimage as nd\n",
    "from scipy import stats\n",
    "import time"
   ]
  },
  {
   "cell_type": "markdown",
   "metadata": {},
   "source": [
    "## load images into dataframe"
   ]
  },
  {
   "cell_type": "code",
   "execution_count": null,
   "metadata": {},
   "outputs": [],
   "source": [
    "df = pd.read_csv('../csvs/GT_Training.csv', header=None, names=['file','label'])\n",
    "df.file = df.file.map(lambda x: x.replace(\"'\",''))\n",
    "df['img'] = df.file.map(lambda x: nib.load('../data/' + str(x) + '.nii.gz'))"
   ]
  },
  {
   "cell_type": "markdown",
   "metadata": {},
   "source": [
    "## create columns in dataframe for new features"
   ]
  },
  {
   "cell_type": "code",
   "execution_count": null,
   "metadata": {},
   "outputs": [],
   "source": [
    "bin_labels = ['hist' + str(x-1) + '00-' + str(x) + '00' for x in range(1,28)]\n",
    "new_features = 'x y z xyz xcom ycom zcom max xmax ymax zmax mean median std variance skew kurtosis entropy'.split() + bin_labels\n",
    "try:\n",
    "  df = df.reindex(columns = df.columns.tolist() + new_features)\n",
    "except: \n",
    "    pass\n",
    "print(len(new_features),'new features')"
   ]
  },
  {
   "cell_type": "markdown",
   "metadata": {},
   "source": [
    "## calculate features for each example image"
   ]
  },
  {
   "cell_type": "code",
   "execution_count": null,
   "metadata": {},
   "outputs": [],
   "source": [
    "start = time.time()\n",
    "start100 = start\n",
    "for i, img in enumerate(df.img):\n",
    "    if i % 100 == 0 and i != 0:\n",
    "        now = time.time()\n",
    "        print('i = {:<10d}time for last 100 = {:<10.3g}total time = {:<10.3g}'.format(i,now-start100,now-start))\n",
    "        start100 = time.time()\n",
    "    data = img.get_fdata()\n",
    "    x,y,z = img.shape\n",
    "    xyz = x*y*z\n",
    "    xcom,ycom,zcom = nd.center_of_mass(data)\n",
    "    min_,max_,(xmin,ymin,zmin),(xmax,ymax,zmax) = nd.extrema(data)\n",
    "    histogram = nd.histogram(data,0,2700,27)\n",
    "    histogram = histogram/sum(histogram)\n",
    "    mean = nd.mean(data)\n",
    "    median = nd.median(data)\n",
    "    std = nd.standard_deviation(data)\n",
    "    var = nd.variance(data)\n",
    "    skew = stats.skew(data,axis=None)\n",
    "    kurtosis = stats.kurtosis(data,axis=None)\n",
    "    entropy = stats.entropy(histogram)\n",
    "    features = [x,y,z,xyz,xcom,ycom,zcom,max_,xmax,ymax,zmax,mean,median,std,var,skew,kurtosis,entropy] + list(histogram)\n",
    "    df.loc[df.index==i,new_features] = features\n",
    "\n",
    "print('Done with {:d} rows. Total time = {:<10.3g}'.format(len(df),time.time()-start))"
   ]
  },
  {
   "cell_type": "markdown",
   "metadata": {},
   "source": [
    "## save data"
   ]
  },
  {
   "cell_type": "code",
   "execution_count": null,
   "metadata": {},
   "outputs": [],
   "source": [
    "df.drop('img',axis=1).to_csv('../new_output/features.csv')"
   ]
  }
 ],
 "metadata": {
  "kernelspec": {
   "display_name": "Python 3",
   "language": "python",
   "name": "python3"
  },
  "language_info": {
   "codemirror_mode": {
    "name": "ipython",
    "version": 3
   },
   "file_extension": ".py",
   "mimetype": "text/x-python",
   "name": "python",
   "nbconvert_exporter": "python",
   "pygments_lexer": "ipython3",
   "version": "3.6.5"
  }
 },
 "nbformat": 4,
 "nbformat_minor": 2
}
