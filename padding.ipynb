{
 "cells": [
  {
   "cell_type": "code",
   "execution_count": 1,
   "metadata": {},
   "outputs": [],
   "source": [
    "import numpy as np\n",
    "import pandas as pd\n",
    "import nibabel as nib\n",
    "import itertools"
   ]
  },
  {
   "cell_type": "code",
   "execution_count": 2,
   "metadata": {},
   "outputs": [],
   "source": [
    "def before_after(a, total_width):\n",
    "    before = (total_width-a)//2\n",
    "    after = total_width-before-a\n",
    "    return (before, after)\n",
    "\n",
    "\n",
    "def get_pad_width(x,y,z,total_width=400):\n",
    "    return (before_after(x,total_width),\n",
    "            before_after(y,total_width),\n",
    "            before_after(z,total_width))"
   ]
  },
  {
   "cell_type": "code",
   "execution_count": 3,
   "metadata": {},
   "outputs": [],
   "source": [
    "img = nib.load('data/I004_1.nii.gz')\n",
    "data = img.get_fdata()"
   ]
  },
  {
   "cell_type": "code",
   "execution_count": 4,
   "metadata": {},
   "outputs": [
    {
     "name": "stdout",
     "output_type": "stream",
     "text": [
      "(400, 400, 400)\n",
      "(89, 140, 50)\n"
     ]
    }
   ],
   "source": [
    "x,y,z = list(data.shape)\n",
    "padded = np.pad(data,get_pad_width(x,y,z),'constant',constant_values=0)\n",
    "print(padded.shape)\n",
    "print(data.shape)"
   ]
  },
  {
   "cell_type": "code",
   "execution_count": 5,
   "metadata": {},
   "outputs": [],
   "source": [
    "width = 400\n",
    "regions = 4\n",
    "block_labels = ['block_' + str(x) + '_mean' for x in range(1,regions**3+1)]\n",
    "region_mean=[]\n",
    "ix = []\n",
    "for i in range(regions):\n",
    "    ix.append([width // regions * i, width // regions * (i+1)])\n",
    "count = 0\n",
    "for i, j, k in itertools.product(ix,ix,ix):\n",
    "    region_mean.append(np.mean(padded[i[0]:i[-1],j[0]:j[-1],k[0]:k[-1]]))"
   ]
  },
  {
   "cell_type": "code",
   "execution_count": 6,
   "metadata": {},
   "outputs": [],
   "source": [
    "ix = []\n",
    "regions = 10\n",
    "centered_block_labels = ['centered_block_' + str(x) + '_mean' for x in range(1,regions+1)]\n",
    "for i in range(regions):\n",
    "    half_width = width//2\n",
    "    half_region = width//regions//2*(i+1)\n",
    "    ix.append([half_width-half_region, half_width+half_region])\n",
    "\n",
    "centered_means = []\n",
    "for i in ix:\n",
    "    centered_means.append(np.mean(padded[i[0]:i[-1],i[0]:i[-1],i[0]:i[-1]]))"
   ]
  },
  {
   "cell_type": "code",
   "execution_count": 7,
   "metadata": {},
   "outputs": [
    {
     "data": {
      "text/html": [
       "<div>\n",
       "<style scoped>\n",
       "    .dataframe tbody tr th:only-of-type {\n",
       "        vertical-align: middle;\n",
       "    }\n",
       "\n",
       "    .dataframe tbody tr th {\n",
       "        vertical-align: top;\n",
       "    }\n",
       "\n",
       "    .dataframe thead th {\n",
       "        text-align: right;\n",
       "    }\n",
       "</style>\n",
       "<table border=\"1\" class=\"dataframe\">\n",
       "  <thead>\n",
       "    <tr style=\"text-align: right;\">\n",
       "      <th></th>\n",
       "      <th>centered_block_1_mean</th>\n",
       "      <th>centered_block_2_mean</th>\n",
       "      <th>centered_block_3_mean</th>\n",
       "      <th>centered_block_4_mean</th>\n",
       "      <th>centered_block_5_mean</th>\n",
       "      <th>centered_block_6_mean</th>\n",
       "      <th>centered_block_7_mean</th>\n",
       "      <th>centered_block_8_mean</th>\n",
       "      <th>centered_block_9_mean</th>\n",
       "      <th>centered_block_10_mean</th>\n",
       "    </tr>\n",
       "  </thead>\n",
       "  <tbody>\n",
       "    <tr>\n",
       "      <th>0</th>\n",
       "      <td>1449.896625</td>\n",
       "      <td>874.121459</td>\n",
       "      <td>396.422944</td>\n",
       "      <td>182.07805</td>\n",
       "      <td>93.223962</td>\n",
       "      <td>53.949052</td>\n",
       "      <td>33.973747</td>\n",
       "      <td>22.759756</td>\n",
       "      <td>15.984904</td>\n",
       "      <td>11.652995</td>\n",
       "    </tr>\n",
       "  </tbody>\n",
       "</table>\n",
       "</div>"
      ],
      "text/plain": [
       "   centered_block_1_mean  centered_block_2_mean  centered_block_3_mean  \\\n",
       "0            1449.896625             874.121459             396.422944   \n",
       "\n",
       "   centered_block_4_mean  centered_block_5_mean  centered_block_6_mean  \\\n",
       "0              182.07805              93.223962              53.949052   \n",
       "\n",
       "   centered_block_7_mean  centered_block_8_mean  centered_block_9_mean  \\\n",
       "0              33.973747              22.759756              15.984904   \n",
       "\n",
       "   centered_block_10_mean  \n",
       "0               11.652995  "
      ]
     },
     "execution_count": 7,
     "metadata": {},
     "output_type": "execute_result"
    }
   ],
   "source": [
    "centered_df = pd.DataFrame(np.array(centered_means,ndmin=2), columns=centered_block_labels)\n",
    "centered_df.head()"
   ]
  }
 ],
 "metadata": {
  "kernelspec": {
   "display_name": "Python 3",
   "language": "python",
   "name": "python3"
  },
  "language_info": {
   "codemirror_mode": {
    "name": "ipython",
    "version": 3
   },
   "file_extension": ".py",
   "mimetype": "text/x-python",
   "name": "python",
   "nbconvert_exporter": "python",
   "pygments_lexer": "ipython3",
   "version": "3.6.5"
  }
 },
 "nbformat": 4,
 "nbformat_minor": 2
}
